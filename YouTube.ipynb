{
 "cells": [
  {
   "cell_type": "markdown",
   "id": "477fd8d5",
   "metadata": {},
   "source": [
    "<h1>YouTube Data Cleaning</h1>"
   ]
  },
  {
   "cell_type": "code",
   "execution_count": 1,
   "id": "544356b2",
   "metadata": {},
   "outputs": [
    {
     "name": "stdout",
     "output_type": "stream",
     "text": [
      "/usr/lib/python3/dist-packages/secretstorage/dhcrypto.py:15: CryptographyDeprecationWarning: int_from_bytes is deprecated, use int.from_bytes instead\n",
      "  from cryptography.utils import int_from_bytes\n",
      "/usr/lib/python3/dist-packages/secretstorage/util.py:19: CryptographyDeprecationWarning: int_from_bytes is deprecated, use int.from_bytes instead\n",
      "  from cryptography.utils import int_from_bytes\n",
      "Requirement already satisfied: nltk in ./.local/lib/python3.8/site-packages (3.7)\n",
      "Requirement already satisfied: click in /usr/lib/python3/dist-packages (from nltk) (7.0)\n",
      "Requirement already satisfied: tqdm in ./.local/lib/python3.8/site-packages (from nltk) (4.64.1)\n",
      "Requirement already satisfied: joblib in /usr/local/lib/python3.8/dist-packages (from nltk) (1.0.1)\n",
      "Requirement already satisfied: regex>=2021.8.3 in ./.local/lib/python3.8/site-packages (from nltk) (2022.9.13)\n",
      "Note: you may need to restart the kernel to use updated packages.\n"
     ]
    }
   ],
   "source": [
    "pip install nltk"
   ]
  },
  {
   "cell_type": "code",
   "execution_count": 2,
   "id": "cf03139d",
   "metadata": {},
   "outputs": [
    {
     "name": "stderr",
     "output_type": "stream",
     "text": [
      "[nltk_data] Downloading package crubadan to\n",
      "[nltk_data]     /home/nbgrader/fall21/student-\n",
      "[nltk_data]     acounts/prenio/nltk_data...\n",
      "[nltk_data]   Package crubadan is already up-to-date!\n",
      "[nltk_data] Downloading package punkt to\n",
      "[nltk_data]     /home/nbgrader/fall21/student-\n",
      "[nltk_data]     acounts/prenio/nltk_data...\n",
      "[nltk_data]   Package punkt is already up-to-date!\n"
     ]
    },
    {
     "data": {
      "text/plain": [
       "True"
      ]
     },
     "execution_count": 2,
     "metadata": {},
     "output_type": "execute_result"
    }
   ],
   "source": [
    "import pandas as pd\n",
    "import matplotlib.pyplot as plt\n",
    "import numpy as np\n",
    "import nltk \n",
    "from nltk.classify import textcat\n",
    "nltk.download('crubadan')\n",
    "nltk.download('punkt')"
   ]
  },
  {
   "cell_type": "code",
   "execution_count": 3,
   "id": "ad2b4b6d",
   "metadata": {},
   "outputs": [
    {
     "name": "stdout",
     "output_type": "stream",
     "text": [
      "(335591, 16)\n"
     ]
    },
    {
     "name": "stderr",
     "output_type": "stream",
     "text": [
      "/usr/local/lib/python3.8/dist-packages/IPython/core/interactiveshell.py:3169: DtypeWarning: Columns (1) have mixed types.Specify dtype option on import or set low_memory=False.\n",
      "  has_raised = await self.run_ast_nodes(code_ast.body, cell_name,\n"
     ]
    },
    {
     "data": {
      "text/html": [
       "<div>\n",
       "<style scoped>\n",
       "    .dataframe tbody tr th:only-of-type {\n",
       "        vertical-align: middle;\n",
       "    }\n",
       "\n",
       "    .dataframe tbody tr th {\n",
       "        vertical-align: top;\n",
       "    }\n",
       "\n",
       "    .dataframe thead th {\n",
       "        text-align: right;\n",
       "    }\n",
       "</style>\n",
       "<table border=\"1\" class=\"dataframe\">\n",
       "  <thead>\n",
       "    <tr style=\"text-align: right;\">\n",
       "      <th></th>\n",
       "      <th>VideoID</th>\n",
       "      <th>UploadDate</th>\n",
       "      <th>FetchedDate</th>\n",
       "      <th>UploaderID</th>\n",
       "      <th>SubCount</th>\n",
       "      <th>ViewCount</th>\n",
       "      <th>LikeCount</th>\n",
       "      <th>DislikeCount</th>\n",
       "      <th>IsCrawlable</th>\n",
       "      <th>IsAgeLimit</th>\n",
       "      <th>IsLiveContent</th>\n",
       "      <th>HasSubtitles</th>\n",
       "      <th>IsCommentsEnabled</th>\n",
       "      <th>IsAdsEnabled</th>\n",
       "      <th>Title</th>\n",
       "      <th>Uploader</th>\n",
       "    </tr>\n",
       "  </thead>\n",
       "  <tbody>\n",
       "    <tr>\n",
       "      <th>0</th>\n",
       "      <td>-8jFCTsyxns</td>\n",
       "      <td>20160205</td>\n",
       "      <td>20211127152507</td>\n",
       "      <td>UCB9hwIY2wUoZ7mKxgpwKwGg</td>\n",
       "      <td>789</td>\n",
       "      <td>778</td>\n",
       "      <td>12</td>\n",
       "      <td>0</td>\n",
       "      <td>1</td>\n",
       "      <td>0</td>\n",
       "      <td>0</td>\n",
       "      <td>0</td>\n",
       "      <td>0</td>\n",
       "      <td>0</td>\n",
       "      <td>Eltávozott nap</td>\n",
       "      <td>Illés-Ensemble - Topic</td>\n",
       "    </tr>\n",
       "    <tr>\n",
       "      <th>1</th>\n",
       "      <td>-yjooRrkZXE</td>\n",
       "      <td>20121001</td>\n",
       "      <td>20211127152510</td>\n",
       "      <td>UC8li7azknzQ4ISoDeVzLE4g</td>\n",
       "      <td>221</td>\n",
       "      <td>32</td>\n",
       "      <td>1</td>\n",
       "      <td>0</td>\n",
       "      <td>1</td>\n",
       "      <td>0</td>\n",
       "      <td>0</td>\n",
       "      <td>0</td>\n",
       "      <td>1</td>\n",
       "      <td>0</td>\n",
       "      <td>Hitlist Fail:/ #B2R</td>\n",
       "      <td>ZestyHDx</td>\n",
       "    </tr>\n",
       "    <tr>\n",
       "      <th>2</th>\n",
       "      <td>-x-qCUk11S4</td>\n",
       "      <td>20210601</td>\n",
       "      <td>20211127152513</td>\n",
       "      <td>UC2XIv2_zfyI2BAEbspxtLVA</td>\n",
       "      <td>112</td>\n",
       "      <td>12</td>\n",
       "      <td>2</td>\n",
       "      <td>0</td>\n",
       "      <td>1</td>\n",
       "      <td>0</td>\n",
       "      <td>0</td>\n",
       "      <td>1</td>\n",
       "      <td>1</td>\n",
       "      <td>0</td>\n",
       "      <td>Call of Duty® warzone amp63</td>\n",
       "      <td>perro Darth Vader</td>\n",
       "    </tr>\n",
       "    <tr>\n",
       "      <th>3</th>\n",
       "      <td>-qKaCBsE5L0</td>\n",
       "      <td>20210523</td>\n",
       "      <td>20211127152516</td>\n",
       "      <td>UCovtY8t6mYpF2FS_RepKU7A</td>\n",
       "      <td>97</td>\n",
       "      <td>45</td>\n",
       "      <td>16</td>\n",
       "      <td>0</td>\n",
       "      <td>1</td>\n",
       "      <td>0</td>\n",
       "      <td>0</td>\n",
       "      <td>0</td>\n",
       "      <td>1</td>\n",
       "      <td>0</td>\n",
       "      <td>حالات واتساب  اجمل صوت (سلمت قلبي ❤) تصميمي.</td>\n",
       "      <td>💚ناصرة للحجة 313💚</td>\n",
       "    </tr>\n",
       "    <tr>\n",
       "      <th>4</th>\n",
       "      <td>-I2J5yHNOj0</td>\n",
       "      <td>20201124</td>\n",
       "      <td>20211127152519</td>\n",
       "      <td>UCFjTneWPdUl1fHYTL57wmZw</td>\n",
       "      <td>469</td>\n",
       "      <td>16</td>\n",
       "      <td>6</td>\n",
       "      <td>0</td>\n",
       "      <td>1</td>\n",
       "      <td>0</td>\n",
       "      <td>0</td>\n",
       "      <td>1</td>\n",
       "      <td>1</td>\n",
       "      <td>0</td>\n",
       "      <td>Fight Club (1999) Spoiler Review</td>\n",
       "      <td>Jacob Martin</td>\n",
       "    </tr>\n",
       "  </tbody>\n",
       "</table>\n",
       "</div>"
      ],
      "text/plain": [
       "       VideoID UploadDate     FetchedDate                UploaderID  SubCount  \\\n",
       "0  -8jFCTsyxns   20160205  20211127152507  UCB9hwIY2wUoZ7mKxgpwKwGg       789   \n",
       "1  -yjooRrkZXE   20121001  20211127152510  UC8li7azknzQ4ISoDeVzLE4g       221   \n",
       "2  -x-qCUk11S4   20210601  20211127152513  UC2XIv2_zfyI2BAEbspxtLVA       112   \n",
       "3  -qKaCBsE5L0   20210523  20211127152516  UCovtY8t6mYpF2FS_RepKU7A        97   \n",
       "4  -I2J5yHNOj0   20201124  20211127152519  UCFjTneWPdUl1fHYTL57wmZw       469   \n",
       "\n",
       "   ViewCount  LikeCount  DislikeCount  IsCrawlable  IsAgeLimit  IsLiveContent  \\\n",
       "0        778         12             0            1           0              0   \n",
       "1         32          1             0            1           0              0   \n",
       "2         12          2             0            1           0              0   \n",
       "3         45         16             0            1           0              0   \n",
       "4         16          6             0            1           0              0   \n",
       "\n",
       "   HasSubtitles  IsCommentsEnabled  IsAdsEnabled  \\\n",
       "0             0                  0             0   \n",
       "1             0                  1             0   \n",
       "2             1                  1             0   \n",
       "3             0                  1             0   \n",
       "4             1                  1             0   \n",
       "\n",
       "                                          Title                Uploader  \n",
       "0                                Eltávozott nap  Illés-Ensemble - Topic  \n",
       "1                           Hitlist Fail:/ #B2R                ZestyHDx  \n",
       "2                   Call of Duty® warzone amp63       perro Darth Vader  \n",
       "3  حالات واتساب  اجمل صوت (سلمت قلبي ❤) تصميمي.       💚ناصرة للحجة 313💚  \n",
       "4              Fight Club (1999) Spoiler Review            Jacob Martin  "
      ]
     },
     "execution_count": 3,
     "metadata": {},
     "output_type": "execute_result"
    }
   ],
   "source": [
    "df = pd.read_csv('YoutubeData.csv')\n",
    "\n",
    "print(df.shape)\n",
    "df.head()\n"
   ]
  },
  {
   "cell_type": "code",
   "execution_count": null,
   "id": "f2434a33",
   "metadata": {},
   "outputs": [],
   "source": [
    "def num_missing(x):\n",
    "  return sum(x.isnull())\n",
    "\n",
    "print(df.apply(num_missing, axis=0))\n"
   ]
  },
  {
   "cell_type": "code",
   "execution_count": null,
   "id": "66760283",
   "metadata": {},
   "outputs": [],
   "source": [
    "df = df.dropna()\n",
    "df.shape\n",
    "\n",
    "#Sanity Check\n",
    "def num_missing(x):\n",
    "  return sum(x.isnull())\n",
    "\n",
    "print(df.apply(num_missing, axis=0))"
   ]
  },
  {
   "cell_type": "code",
   "execution_count": null,
   "id": "0b2fcf7f",
   "metadata": {},
   "outputs": [],
   "source": [
    "#We do not need the VideoID variable as it is not useful in the EDA\n",
    "df = df.iloc[:,1:]"
   ]
  },
  {
   "cell_type": "code",
   "execution_count": null,
   "id": "50d7d90b",
   "metadata": {},
   "outputs": [],
   "source": [
    "#Creating new variables from the UploadDate variable\n",
    "#Creating varaibles that separate the year, month, and day\n",
    "\n",
    "#There are values in UploadDate that are not in the yyyymmdd format\n",
    "#We will get rid of these values\n",
    "df[pd.to_numeric(df['UploadDate'], errors='coerce').notnull()]\n",
    "df = df.assign(year = df['UploadDate'].str[:4])\n",
    "df = df.assign(month = df['UploadDate'].str[4:6])\n",
    "df = df.assign(day = df['UploadDate'].str[6:8])\n",
    "\n",
    "#Format the variable FetchedDate better so it is same format as UploadDate (yyyymmdd)\n",
    "df['FetchedDate'] = df['FetchedDate'].astype(str)\n",
    "df = df.assign(FetchedDate = df['FetchedDate'].str[0:8])\n",
    "\n",
    "#There are still n/a values. We will get rid of these as well.\n",
    "df = df.dropna()\n",
    "df.shape\n",
    "df"
   ]
  },
  {
   "cell_type": "code",
   "execution_count": null,
   "id": "edfec6bb",
   "metadata": {},
   "outputs": [],
   "source": [
    "#There might still be some non-numeric values we need to get rid of\n",
    "#We can apply the same stragegy used for UploadDate with the other variables\n",
    "df[pd.to_numeric(df['year'], errors='coerce').notnull()]\n",
    "df[pd.to_numeric(df['month'], errors='coerce').notnull()]\n",
    "df[pd.to_numeric(df['day'], errors='coerce').notnull()]\n",
    "df[pd.to_numeric(df['SubCount'], errors='coerce').notnull()]\n",
    "df[pd.to_numeric(df['ViewCount'], errors='coerce').notnull()]\n",
    "df[pd.to_numeric(df['LikeCount'], errors='coerce').notnull()]\n",
    "df[pd.to_numeric(df['DislikeCount'], errors='coerce').notnull()]"
   ]
  },
  {
   "cell_type": "code",
   "execution_count": null,
   "id": "d0a10149",
   "metadata": {},
   "outputs": [],
   "source": [
    "df[\"day\"].value_counts(normalize=False)"
   ]
  },
  {
   "cell_type": "code",
   "execution_count": null,
   "id": "895c79b0",
   "metadata": {},
   "outputs": [],
   "source": [
    "df = df[df.day != 'ff']\n",
    "df = df[df.day != 'il']\n",
    "\n",
    "#Sanity Check\n",
    "df[\"day\"].value_counts(normalize=False)"
   ]
  },
  {
   "cell_type": "code",
   "execution_count": null,
   "id": "484e014c",
   "metadata": {},
   "outputs": [],
   "source": [
    "df[\"month\"].value_counts(normalize=False)"
   ]
  },
  {
   "cell_type": "code",
   "execution_count": null,
   "id": "b8001419",
   "metadata": {},
   "outputs": [],
   "source": [
    "df[\"year\"].value_counts(normalize=False)"
   ]
  },
  {
   "cell_type": "code",
   "execution_count": null,
   "id": "d81776dc",
   "metadata": {},
   "outputs": [],
   "source": [
    "df[\"SubCount\"].value_counts(normalize=False)"
   ]
  },
  {
   "cell_type": "code",
   "execution_count": null,
   "id": "0a5600bd",
   "metadata": {},
   "outputs": [],
   "source": [
    "#A value for -1 for SubCount means that the subscribers are hidden, we will remove these observations\n",
    "df = df[df.SubCount != -1]\n",
    "\n",
    "#Sanity Check\n",
    "df[\"SubCount\"].value_counts(normalize=False)"
   ]
  },
  {
   "cell_type": "code",
   "execution_count": null,
   "id": "4c414729",
   "metadata": {},
   "outputs": [],
   "source": [
    "df[\"IsCrawlable\"].value_counts(normalize=True)"
   ]
  },
  {
   "cell_type": "code",
   "execution_count": null,
   "id": "1364c487",
   "metadata": {},
   "outputs": [],
   "source": [
    "df[\"IsAgeLimit\"].value_counts(normalize=True)"
   ]
  },
  {
   "cell_type": "code",
   "execution_count": null,
   "id": "312ac621",
   "metadata": {},
   "outputs": [],
   "source": [
    "df[\"IsLiveContent\"].value_counts(normalize=True)"
   ]
  },
  {
   "cell_type": "code",
   "execution_count": null,
   "id": "8a34da70",
   "metadata": {},
   "outputs": [],
   "source": [
    "df[\"HasSubtitles\"].value_counts(normalize=True)"
   ]
  },
  {
   "cell_type": "code",
   "execution_count": null,
   "id": "bd7dd355",
   "metadata": {},
   "outputs": [],
   "source": [
    "df[\"IsCommentsEnabled\"].value_counts(normalize=True)"
   ]
  },
  {
   "cell_type": "code",
   "execution_count": null,
   "id": "c85b36a7",
   "metadata": {},
   "outputs": [],
   "source": [
    "df[\"IsAdsEnabled\"].value_counts(normalize=True)"
   ]
  },
  {
   "cell_type": "code",
   "execution_count": null,
   "id": "504ab306",
   "metadata": {},
   "outputs": [],
   "source": [
    "#df.to_csv(index=False)"
   ]
  },
  {
   "cell_type": "code",
   "execution_count": null,
   "id": "601a9ecf",
   "metadata": {},
   "outputs": [],
   "source": []
  }
 ],
 "metadata": {
  "kernelspec": {
   "display_name": "Python 3",
   "language": "python",
   "name": "python3"
  },
  "language_info": {
   "codemirror_mode": {
    "name": "ipython",
    "version": 3
   },
   "file_extension": ".py",
   "mimetype": "text/x-python",
   "name": "python",
   "nbconvert_exporter": "python",
   "pygments_lexer": "ipython3",
   "version": "3.8.10"
  }
 },
 "nbformat": 4,
 "nbformat_minor": 5
}
